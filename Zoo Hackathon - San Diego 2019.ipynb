{
 "cells": [
  {
   "cell_type": "code",
   "execution_count": 160,
   "metadata": {},
   "outputs": [],
   "source": [
    "import spacy\n",
    "from spacy import displacy\n",
    "from collections import Counter\n",
    "import en_core_web_sm\n",
    "from bs4 import BeautifulSoup\n",
    "from bs4.element import Comment\n",
    "import requests\n",
    "import re\n",
    "from copy import deepcopy\n",
    "import psycopg2\n",
    "import uuid\n",
    "from datetime import datetime\n",
    "from getpass import getpass\n",
    "import json\n",
    "# nlp = en_core_web_sm.load()"
   ]
  },
  {
   "cell_type": "code",
   "execution_count": 145,
   "metadata": {},
   "outputs": [],
   "source": [
    "def url_to_string(url):\n",
    "    res = requests.get(url)\n",
    "    html = res.text\n",
    "    soup = BeautifulSoup(html, 'html.parser')\n",
    "    for script in soup([\"script\", \"style\", 'aside']):\n",
    "        script.extract()\n",
    "    return \" \".join(re.split(r'[\\n\\t]+', soup.get_text()))"
   ]
  },
  {
   "cell_type": "code",
   "execution_count": 286,
   "metadata": {},
   "outputs": [],
   "source": [
    "keywords = [\n",
    "    'seized',\n",
    "    'confiscation',\n",
    "    'wildlife AND confiscation',\n",
    "    'ivory',\n",
    "    'ivory AND confiscation'\n",
    "    'rhino',\n",
    "    'pangolin',\n",
    "    'elephant AND tusk',\n",
    "    'rhino AND horn',\n",
    "    'pangolin',\n",
    "    'pangolin AND scale',\n",
    "    'illegal AND wildlife AND trade',\n",
    "    'wildlife AND trafficking',\n",
    "    'hunting AND trophies',\n",
    "    'hunting AND trophy',\n",
    "    'endangered AND species',\n",
    "    'poaching',\n",
    "    'poaching AND turtle',\n",
    "    'poaching AND tiger',\n",
    "    'poaching AND pangolin',\n",
    "    'poaching AND elephant',\n",
    "    'poaching AND rhino'\n",
    "]\n",
    "\n",
    "articles = []\n",
    "for keyword in keywords:\n",
    "    response = requests.get('https://newsapi.org/v2/everything?q={query}&from=2019-10-09&sortBy=popularity&apiKey=cf360c62f2484be5a525532545283cc7'.format(query=keyword))\n",
    "    json_response = json.loads(response.text)\n",
    "    articles.extend(json_response['articles'])"
   ]
  },
  {
   "cell_type": "code",
   "execution_count": 193,
   "metadata": {},
   "outputs": [],
   "source": [
    "def get_connection(password=None):\n",
    "    if not password:\n",
    "        password=str(getpass())\n",
    "\n",
    "    conn = psycopg2.connect(database='zoohackathon', user='postgres', password=password)\n",
    "    return conn\n",
    "    "
   ]
  },
  {
   "cell_type": "code",
   "execution_count": 276,
   "metadata": {},
   "outputs": [],
   "source": [
    "def insert_article(article):\n",
    "    conn = get_connection(password=getpass())\n",
    "    cursor = conn.cursor()\n",
    "\n",
    "    id = str(uuid.uuid1())\n",
    "    values = (\n",
    "        id, \n",
    "        article['source']['name'], \n",
    "        article['author'], \n",
    "        article['title'], \n",
    "        article['description'], \n",
    "        article['url'],\n",
    "        article['urlToImage'], \n",
    "        article['publishedAt'],\n",
    "        article['content'], \n",
    "        datetime.now().isoformat()\n",
    "    )\n",
    "    cursor.execute(\"\"\"\n",
    "        INSERT INTO zoohackathon.public.articles(\n",
    "            id, \n",
    "            source,\n",
    "            author,\n",
    "            title,\n",
    "            description,\n",
    "            link,\n",
    "            link_to_image,\n",
    "            publishedAt,\n",
    "            content,\n",
    "            loaded_at) \n",
    "        VALUES (%s, %s, %s, %s, %s, %s, %s, %s, %s, %s);\n",
    "        \"\"\", \n",
    "   values)\n",
    "    \n",
    "    conn.commit()\n",
    "    \n",
    "    return id\n",
    "    "
   ]
  },
  {
   "cell_type": "code",
   "execution_count": 197,
   "metadata": {},
   "outputs": [],
   "source": [
    "def insert_words(words):\n",
    "    conn = get_connection(password=getpass())\n",
    "    cursor= conn.cursor()\n",
    "    cursor.executemany('INSERT INTO zoohackathon.public.words(id, content, label, article_id) VALUES(%s, %s, %s, %s);', words)\n",
    "    conn.commit()"
   ]
  },
  {
   "cell_type": "code",
   "execution_count": 289,
   "metadata": {},
   "outputs": [],
   "source": [
    "text = url_to_string('https://people.com/pets/endangered-baby-pangolin-rescued-poacher-released/')"
   ]
  },
  {
   "cell_type": "code",
   "execution_count": 290,
   "metadata": {},
   "outputs": [],
   "source": [
    "nlp_text = nlp(text)"
   ]
  },
  {
   "cell_type": "code",
   "execution_count": 292,
   "metadata": {},
   "outputs": [
    {
     "data": {
      "text/plain": [
       "[('Baby Pangolin Rescued', 'PERSON'),\n",
       " ('Poacher', 'PERSON'),\n",
       " ('Released', 'PRODUCT'),\n",
       " ('Stars', 'PRODUCT'),\n",
       " ('Mickey', 'PERSON'),\n",
       " ('Disney                                                                                                                                                     Mickey-Shaped Foods',\n",
       "  'ORG'),\n",
       " ('Disney                                                                                                    Our',\n",
       "  'ORG'),\n",
       " ('Catch', 'PERSON'),\n",
       " ('Instagram                                                                                                                                               Hot Celeb Men Who Bared',\n",
       "  'ORG'),\n",
       " ('Instagram                                                                                                ',\n",
       "  'ORG'),\n",
       " ('Lifestyle                                                The Best Photos from Celebrity Vacations',\n",
       "  'WORK_OF_ART'),\n",
       " ('Profile Menu Subscribe', 'PERSON'),\n",
       " ('Baby Pangolin Kept', 'PERSON'),\n",
       " ('Baby Pangolin Kept', 'PERSON'),\n",
       " ('Released                             ', 'PERSON'),\n",
       " ('Kosin', 'PERSON'),\n",
       " ('two', 'CARDINAL'),\n",
       " ('November 06, 2019', 'DATE'),\n",
       " ('FB', 'PERSON'),\n",
       " ('Thailand Kosin', 'PERSON'),\n",
       " ('Sunda', 'ORG'),\n",
       " ('Zoological Society of London', 'ORG'),\n",
       " ('Kosin', 'GPE'),\n",
       " ('ZSL', 'ORG'),\n",
       " ('Thailand', 'GPE'),\n",
       " ('ZSL', 'ORG'),\n",
       " ('Kosin', 'PERSON'),\n",
       " ('two', 'CARDINAL'),\n",
       " ('ZSL', 'ORG'),\n",
       " ('Kosin', 'ORG'),\n",
       " ('Kosin', 'PERSON'),\n",
       " ('several days', 'DATE'),\n",
       " ('Yingboon', 'ORG'),\n",
       " ('Kosin', 'GPE'),\n",
       " ('Tanzania', 'GPE'),\n",
       " ('Kosin', 'GPE'),\n",
       " ('first', 'ORDINAL'),\n",
       " ('second', 'ORDINAL'),\n",
       " ('thousands', 'CARDINAL'),\n",
       " ('Eileen Larney', 'PERSON'),\n",
       " ('ZSL', 'ORG'),\n",
       " ('Yingboon', 'ORG'),\n",
       " ('eight', 'CARDINAL'),\n",
       " ('ZSL', 'ORG'),\n",
       " ('an estimated 300', 'CARDINAL'),\n",
       " ('each day', 'DATE'),\n",
       " ('South African Park Image', 'LOC'),\n",
       " ('Yingboon', 'ORG'),\n",
       " ('up to three months’', 'DATE'),\n",
       " ('Thailand', 'GPE'),\n",
       " ('Larney', 'PERSON'),\n",
       " ('ZSL', 'ORG'),\n",
       " ('Kosin', 'ORG'),\n",
       " ('Yingboon', 'PRODUCT'),\n",
       " ('Kosin', 'GPE'),\n",
       " ('ZSL', 'ORG'),\n",
       " ('Thailand', 'GPE'),\n",
       " ('Cameroon', 'ORG'),\n",
       " ('Nepal', 'GPE'),\n",
       " ('Philippines', 'GPE'),\n",
       " ('Better Homes & Gardens  ', 'ORG'),\n",
       " ('Cooking Light  ', 'PRODUCT'),\n",
       " ('EatingWell', 'ORG'),\n",
       " ('Family Circle', 'PRODUCT'),\n",
       " ('Fitness Magazine  ', 'ORG'),\n",
       " ('Fit Pregnancy  ', 'PRODUCT'),\n",
       " ('Food & Wine', 'ORG'),\n",
       " ('Instyle', 'NORP'),\n",
       " ('Martha Stewart', 'PERSON'),\n",
       " ('Midwest', 'LOC'),\n",
       " ('Martha Stewart', 'PERSON'),\n",
       " ('Parenting', 'PERSON'),\n",
       " ('Rachael Ray Magazine  ', 'PERSON'),\n",
       " ('Shape', 'PRODUCT'),\n",
       " ('Ser Padres  ', 'PRODUCT'),\n",
       " ('Siempre Mujer  ', 'PRODUCT'),\n",
       " ('Southern', 'NORP'),\n",
       " ('Travel & Leisure', 'ORG'),\n",
       " ('Copyright', 'PERSON'),\n",
       " ('Meredith Corporation All Rights Reserved', 'ORG'),\n",
       " ('Privacy Policythis', 'ORG'),\n",
       " ('Data Policythis', 'ORG'),\n",
       " ('California', 'GPE'),\n",
       " ('Privacy Rightsthis', 'PERSON'),\n",
       " ('Manage Push Notificationsthis', 'PERSON'),\n",
       " ('EU', 'ORG'),\n",
       " ('Copyright', 'PERSON'),\n",
       " ('Google Chrome', 'PRODUCT'),\n",
       " ('Android                   ', 'PERSON'),\n",
       " ('Firefox', 'PERSON'),\n",
       " ('Safari                   ', 'PERSON'),\n",
       " ('Microsoft', 'ORG'),\n",
       " ('Edge                   ', 'PERSON'),\n",
       " ('Baby Pangolin Kept', 'PERSON'),\n",
       " ('Released         ', 'PERSON')]"
      ]
     },
     "execution_count": 292,
     "metadata": {},
     "output_type": "execute_result"
    }
   ],
   "source": [
    "[(token.text, token.label_) for token in nlp_text.ents]"
   ]
  },
  {
   "cell_type": "code",
   "execution_count": 288,
   "metadata": {},
   "outputs": [],
   "source": [
    "for article in articles:\n",
    "    text = url_to_string(article['url'])\n",
    "    nlp_text = nlp(text)\n",
    "    \n",
    "    article_id = insert_article(article=article)\n",
    "    words = []\n",
    "    for word in nlp_text.ents:\n",
    "        words.append((str(uuid.uuid1()), word.text, word.label_, article_id))\n",
    "        \n",
    "    insert_words(tuple(words))\n"
   ]
  },
  {
   "cell_type": "code",
   "execution_count": 64,
   "metadata": {},
   "outputs": [
    {
     "data": {
      "text/plain": [
       "[('Excise Department - Press', 'ORG'),\n",
       " ('Opens', 'ORG'),\n",
       " ('Opens', 'ORG'),\n",
       " ('JavaScript', 'ORG'),\n",
       " ('Javascript', 'PERSON')]"
      ]
     },
     "execution_count": 64,
     "metadata": {},
     "output_type": "execute_result"
    }
   ],
   "source": [
    "text_and_labels = [(x.text, x.label_) for x in nlp_text.ents]\n",
    "text_and_labels[:5]"
   ]
  },
  {
   "cell_type": "code",
   "execution_count": 33,
   "metadata": {},
   "outputs": [
    {
     "data": {
      "text/plain": [
       "Counter({'ORG': 24,\n",
       "         'PERSON': 7,\n",
       "         'CARDINAL': 7,\n",
       "         'DATE': 11,\n",
       "         'LOC': 5,\n",
       "         'MONEY': 5,\n",
       "         'GPE': 3,\n",
       "         'NORP': 1})"
      ]
     },
     "execution_count": 33,
     "metadata": {},
     "output_type": "execute_result"
    }
   ],
   "source": [
    "labels = [x.label_ for x in nlp_text.ents]\n",
    "Counter(labels)"
   ]
  },
  {
   "cell_type": "code",
   "execution_count": 52,
   "metadata": {},
   "outputs": [
    {
     "data": {
      "text/plain": [
       "Counter({'Excise Department - Press': 1,\n",
       "         'Opens': 3,\n",
       "         'JavaScript': 1,\n",
       "         'Javascript': 1,\n",
       "         'Hong Kong Customs': 2,\n",
       "         'FEHD': 5,\n",
       "         'Yangcheng Lake': 8,\n",
       "         '25': 2,\n",
       "         'October': 1,\n",
       "         '2019': 1,\n",
       "         'Kong Customs': 1,\n",
       "         'the Food and Environmental Hygiene Department': 2,\n",
       "         'October 21': 2,\n",
       "         '19': 3,\n",
       "         'about $1,300': 2,\n",
       "         'Causeway Bay': 2,\n",
       "         'Hong Kong': 2,\n",
       "         'Customs': 7,\n",
       "         'the Trade Descriptions Ordinance': 1,\n",
       "         'Japan': 1,\n",
       "         'TDO': 1,\n",
       "         '500,000': 1,\n",
       "         'five years': 1,\n",
       "         '2545 6182': 1,\n",
       "         'crimereport@customs.gov.hk': 1,\n",
       "         'two': 1,\n",
       "         'this month': 1,\n",
       "         'about 1 500': 1,\n",
       "         'about $30,000': 1,\n",
       "         'the Import and Export Ordinance': 1,\n",
       "         '$2 million': 1,\n",
       "         'seven years': 1,\n",
       "         'October 25': 1,\n",
       "         '2010': 1,\n",
       "         'Last revision date': 1})"
      ]
     },
     "execution_count": 52,
     "metadata": {},
     "output_type": "execute_result"
    }
   ],
   "source": [
    "texts = [x.text for x in nlp_text.ents]\n",
    "Counter(texts)"
   ]
  },
  {
   "cell_type": "code",
   "execution_count": 35,
   "metadata": {},
   "outputs": [
    {
     "name": "stdout",
     "output_type": "stream",
     "text": [
      "[(' ', 'SPACE', ''), ('Hong', 'PROPN', 'compound'), ('Kong', 'PROPN', 'nmod'), ('Customs', 'PROPN', 'nmod'), ('and', 'CCONJ', 'cc'), ('Excise', 'PROPN', 'conj'), ('Department', 'PROPN', 'compound'), ('-', 'PUNCT', 'punct'), ('Press', 'PROPN', 'compound'), ('Releases', 'PROPN', 'nsubj'), ('Skip', 'PROPN', 'ROOT'), ('to', 'ADP', 'prep'), ('main', 'ADJ', 'amod'), ('content', 'NOUN', 'pobj'), (' ', 'SPACE', ''), ('(', 'PUNCT', 'punct'), ('Opens', 'VERB', 'parataxis'), ('a', 'DET', 'det'), ('new', 'ADJ', 'amod'), ('window', 'NOUN', 'dobj'), (')', 'PUNCT', 'punct'), ('  ', 'SPACE', ''), ('(', 'PUNCT', 'punct'), ('Opens', 'VERB', 'parataxis'), ('a', 'DET', 'det'), ('new', 'ADJ', 'amod'), ('window', 'NOUN', 'dobj'), (')', 'PUNCT', 'punct'), (' ', 'SPACE', ''), ('Your', 'PRON', 'poss'), ('browser', 'NOUN', 'nsubj'), ('does', 'AUX', 'aux'), ('not', 'PART', 'neg'), ('support', 'VERB', 'ROOT'), ('JavaScript', 'PROPN', 'nsubjpass'), ('or', 'CCONJ', 'cc'), ('Javascript', 'PROPN', 'conj'), ('is', 'AUX', 'auxpass'), ('turned', 'VERB', 'ccomp'), ('off', 'ADP', 'prt'), ('.', 'PUNCT', 'punct'), (' ', 'SPACE', ''), ('The', 'DET', 'det'), ('features', 'NOUN', 'nsubj'), (',', 'PUNCT', 'punct'), ('such', 'ADJ', 'amod'), ('as', 'SCONJ', 'prep'), ('printing', 'VERB', 'pobj'), (',', 'PUNCT', 'punct'), ('pop', 'NOUN', 'amod'), ('-', 'PUNCT', 'punct'), ('up', 'ADP', 'prt'), ('menu', 'NOUN', 'conj'), ('and', 'CCONJ', 'cc'), ('font', 'ADJ', 'amod'), ('size', 'NOUN', 'compound'), ('customization', 'NOUN', 'conj'), ('will', 'AUX', 'aux'), ('not', 'PART', 'neg'), ('be', 'AUX', 'ROOT'), ('available', 'ADJ', 'acomp'), ('.', 'PUNCT', 'punct'), ('To', 'PART', 'aux'), ('go', 'VERB', 'advcl'), ('to', 'ADP', 'prep'), ('other', 'ADJ', 'amod'), ('section', 'NOUN', 'pobj'), ('or', 'CCONJ', 'cc'), ('page', 'NOUN', 'conj'), (',', 'PUNCT', 'punct'), ('please', 'INTJ', 'intj'), ('press', 'VERB', 'ROOT'), ('the', 'DET', 'det'), ('\"', 'PUNCT', 'punct'), ('SITE', 'PROPN', 'nmod'), ('MAP', 'PROPN', 'nmod'), ('\"', 'PUNCT', 'punct'), ('button', 'NOUN', 'dobj'), ('.', 'PUNCT', 'punct'), ('Hong', 'PROPN', 'compound'), ('Kong', 'PROPN', 'compound'), ('Customs', 'PROPN', 'nsubj'), ('mounts', 'VERB', 'ROOT'), ('joint', 'ADJ', 'amod'), ('operation', 'NOUN', 'dobj'), ('with', 'ADP', 'prep'), ('FEHD', 'NOUN', 'pobj'), ('and', 'CCONJ', 'cc'), ('seizes', 'VERB', 'conj'), ('\"', 'PUNCT', 'punct'), ('Yangcheng', 'PROPN', 'nmod'), ('Lake', 'PROPN', 'nmod'), ('hairy', 'ADJ', 'amod'), ('crabs', 'VERB', 'dobj'), ('\"', 'PUNCT', 'punct'), ('with', 'ADP', 'prep'), ('suspected', 'VERB', 'amod'), ('false', 'ADJ', 'amod'), ('claim', 'NOUN', 'pobj'), ('of', 'ADP', 'prep'), ('origin', 'NOUN', 'pobj'), ('at', 'ADP', 'prep'), ('food', 'NOUN', 'compound'), ('premises', 'NOUN', 'pobj'), ('(', 'PUNCT', 'punct'), ('with', 'ADP', 'prep'), ('photo', 'NOUN', 'pobj'), (')', 'PUNCT', 'punct'), ('25', 'NUM', 'nummod'), ('\\xa0', 'SPACE', ''), ('October', 'PROPN', 'npadvmod'), ('\\xa0', 'SPACE', ''), ('2019', 'NUM', 'appos'), ('â\\x80\\x8bHong', 'NOUN', 'punct'), ('Kong', 'PROPN', 'compound'), ('Customs', 'PROPN', 'nsubj'), ('and', 'CCONJ', 'cc'), ('the', 'DET', 'det'), ('Food', 'PROPN', 'nmod'), ('and', 'CCONJ', 'cc'), ('Environmental', 'PROPN', 'conj'), ('Hygiene', 'PROPN', 'compound'), ('Department', 'PROPN', 'conj'), ('(', 'PUNCT', 'punct'), ('FEHD', 'PROPN', 'appos'), (')', 'PUNCT', 'punct'), ('mounted', 'VERB', 'ROOT'), ('a', 'DET', 'det'), ('joint', 'ADJ', 'amod'), ('operation', 'NOUN', 'dobj'), ('on', 'ADP', 'prep'), ('October', 'PROPN', 'pobj'), ('21', 'NUM', 'nummod'), ('and', 'CCONJ', 'cc'), ('seized', 'VERB', 'conj'), ('19', 'NUM', 'nummod'), ('crabs', 'NOUN', 'dobj'), ('described', 'VERB', 'acl'), ('as', 'SCONJ', 'prep'), ('\"', 'PUNCT', 'punct'), ('Yangcheng', 'PROPN', 'nmod'), ('Lake', 'PROPN', 'nmod'), ('hairy', 'ADJ', 'amod'), ('crabs', 'VERB', 'pobj'), ('\"', 'PUNCT', 'punct'), ('with', 'ADP', 'prep'), ('a', 'DET', 'det'), ('suspected', 'VERB', 'amod'), ('false', 'ADJ', 'amod'), ('claim', 'NOUN', 'pobj'), ('of', 'ADP', 'prep'), ('origin', 'NOUN', 'pobj'), ('and', 'CCONJ', 'cc'), ('an', 'DET', 'det'), ('estimated', 'VERB', 'amod'), ('market', 'NOUN', 'compound'), ('value', 'NOUN', 'conj'), ('of', 'ADP', 'prep'), ('about', 'ADV', 'advmod'), ('$', 'SYM', 'quantmod'), ('1,300', 'NUM', 'pobj'), ('from', 'ADP', 'prep'), ('a', 'DET', 'det'), ('licensed', 'VERB', 'amod'), ('food', 'NOUN', 'compound'), ('premises', 'NOUN', 'pobj'), ('in', 'ADP', 'prep'), ('Causeway', 'PROPN', 'compound'), ('Bay', 'PROPN', 'pobj'), ('.', 'PUNCT', 'punct'), ('In', 'ADP', 'prep'), ('response', 'NOUN', 'pobj'), ('to', 'ADP', 'prep'), ('intelligence', 'NOUN', 'pobj'), (',', 'PUNCT', 'punct'), ('the', 'DET', 'det'), ('FEHD', 'PROPN', 'nsubj'), ('suspected', 'VERB', 'ROOT'), ('that', 'SCONJ', 'mark'), ('the', 'DET', 'det'), ('food', 'NOUN', 'compound'), ('premises', 'NOUN', 'nsubj'), ('had', 'AUX', 'ccomp'), ('in', 'ADP', 'prep'), ('its', 'PRON', 'poss'), ('possession', 'NOUN', 'pobj'), ('\"', 'PUNCT', 'punct'), ('Yangcheng', 'PROPN', 'nmod'), ('Lake', 'PROPN', 'nmod'), ('hairy', 'ADJ', 'amod'), ('crabs', 'NOUN', 'dobj'), ('\"', 'PUNCT', 'punct'), ('which', 'PRON', 'nsubjpass'), ('were', 'AUX', 'auxpass'), ('displayed', 'VERB', 'relcl'), ('for', 'ADP', 'prep'), ('sale', 'NOUN', 'pobj'), ('.', 'PUNCT', 'punct'), ('However', 'ADV', 'advmod'), (',', 'PUNCT', 'punct'), ('according', 'VERB', 'prep'), ('to', 'ADP', 'prep'), ('the', 'DET', 'det'), ('FEHD', 'PROPN', 'poss'), (\"'s\", 'PART', 'case'), ('information', 'NOUN', 'pobj'), (',', 'PUNCT', 'punct'), ('no', 'DET', 'det'), ('imported', 'VERB', 'amod'), ('Yangcheng', 'PROPN', 'compound'), ('Lake', 'PROPN', 'nmod'), ('hairy', 'ADJ', 'amod'), ('crabs', 'NOUN', 'nsubj'), ('are', 'AUX', 'ROOT'), ('available', 'ADJ', 'acomp'), ('for', 'ADP', 'prep'), ('sale', 'NOUN', 'pobj'), ('in', 'ADP', 'prep'), ('Hong', 'PROPN', 'compound'), ('Kong', 'PROPN', 'pobj'), ('at', 'ADP', 'prep'), ('the', 'DET', 'det'), ('moment', 'NOUN', 'pobj'), ('.', 'PUNCT', 'punct'), ('A', 'DET', 'det'), ('joint', 'ADJ', 'amod'), ('operation', 'NOUN', 'nsubjpass'), ('was', 'AUX', 'auxpass'), ('then', 'ADV', 'advmod'), ('conducted', 'VERB', 'ROOT'), ('with', 'ADP', 'prep'), ('Customs', 'PROPN', 'pobj'), ('.', 'PUNCT', 'punct'), ('In', 'ADP', 'prep'), ('the', 'DET', 'det'), ('operation', 'NOUN', 'pobj'), (',', 'PUNCT', 'punct'), ('Customs', 'PROPN', 'compound'), ('officers', 'NOUN', 'nsubj'), ('seized', 'VERB', 'ROOT'), ('19', 'NUM', 'nummod'), ('\"', 'PUNCT', 'punct'), ('Yangcheng', 'PROPN', 'nmod'), ('Lake', 'PROPN', 'nmod'), ('hairy', 'ADJ', 'amod'), ('crabs', 'VERB', 'dobj'), ('\"', 'PUNCT', 'punct'), ('with', 'ADP', 'prep'), ('a', 'DET', 'det'), ('suspected', 'VERB', 'amod'), ('false', 'ADJ', 'amod'), ('claim', 'NOUN', 'pobj'), ('of', 'ADP', 'prep'), ('origin', 'NOUN', 'pobj'), ('from', 'ADP', 'prep'), ('the', 'DET', 'det'), ('food', 'NOUN', 'compound'), ('premises', 'NOUN', 'pobj'), ('.', 'PUNCT', 'punct'), ('A', 'DET', 'det'), ('32-year', 'NUM', 'npadvmod'), ('-', 'PUNCT', 'punct'), ('old', 'ADJ', 'amod'), ('male', 'ADJ', 'amod'), ('manager', 'NOUN', 'nsubjpass'), ('was', 'AUX', 'auxpass'), ('arrested', 'VERB', 'ROOT'), ('for', 'ADP', 'prep'), ('suspected', 'VERB', 'amod'), ('violation', 'NOUN', 'pobj'), ('of', 'ADP', 'prep'), ('the', 'DET', 'det'), ('Trade', 'PROPN', 'compound'), ('Descriptions', 'PROPN', 'compound'), ('Ordinance', 'PROPN', 'pobj'), ('(', 'PUNCT', 'punct'), ('TDO', 'PROPN', 'appos'), (')', 'PUNCT', 'punct'), ('.', 'PUNCT', 'punct'), ('Investigation', 'NOUN', 'nsubj'), ('by', 'ADP', 'prep'), ('Customs', 'PROPN', 'pobj'), ('revealed', 'VERB', 'ROOT'), ('that', 'SCONJ', 'mark'), ('the', 'DET', 'det'), ('food', 'NOUN', 'compound'), ('premises', 'NOUN', 'nsubj'), ('concerned', 'VERB', 'acl'), ('earlier', 'ADV', 'advmod'), ('purchased', 'VERB', 'ccomp'), ('a', 'DET', 'det'), ('batch', 'NOUN', 'dobj'), ('of', 'ADP', 'prep'), ('hairy', 'ADJ', 'amod'), ('crabs', 'NOUN', 'pobj'), (',', 'PUNCT', 'punct'), ('for', 'ADP', 'prep'), ('which', 'PRON', 'pobj'), ('the', 'DET', 'det'), ('country', 'NOUN', 'nsubj'), ('of', 'ADP', 'prep'), ('origin', 'NOUN', 'pobj'), ('was', 'AUX', 'relcl'), ('Japan', 'PROPN', 'attr'), ('and', 'CCONJ', 'cc'), ('issued', 'VERB', 'conj'), ('with', 'ADP', 'prep'), ('relevant', 'ADJ', 'amod'), ('health', 'NOUN', 'compound'), ('certificates', 'NOUN', 'pobj'), (',', 'PUNCT', 'punct'), ('from', 'ADP', 'prep'), ('a', 'DET', 'det'), ('local', 'ADJ', 'amod'), ('wholesaler', 'NOUN', 'pobj'), ('.', 'PUNCT', 'punct'), ('Investigation', 'NOUN', 'nsubj'), ('is', 'AUX', 'ROOT'), ('ongoing', 'ADJ', 'acomp'), ('.', 'PUNCT', 'punct'), ('Customs', 'PROPN', 'nsubj'), ('reminds', 'VERB', 'ROOT'), ('traders', 'NOUN', 'dobj'), ('to', 'PART', 'aux'), ('comply', 'VERB', 'xcomp'), ('with', 'ADP', 'prep'), ('the', 'DET', 'det'), ('requirements', 'NOUN', 'pobj'), ('of', 'ADP', 'prep'), ('the', 'DET', 'det'), ('TDO', 'PROPN', 'pobj'), ('.', 'PUNCT', 'punct'), ('Under', 'ADP', 'prep'), ('the', 'DET', 'det'), ('Ordinance', 'PROPN', 'pobj'), (',', 'PUNCT', 'punct'), ('any', 'DET', 'det'), ('person', 'NOUN', 'nsubj'), ('who', 'PRON', 'nsubj'), ('supplies', 'VERB', 'relcl'), ('goods', 'NOUN', 'dobj'), ('with', 'ADP', 'prep'), ('a', 'DET', 'det'), ('false', 'ADJ', 'amod'), ('trade', 'NOUN', 'compound'), ('description', 'NOUN', 'pobj'), ('in', 'ADP', 'prep'), ('the', 'DET', 'det'), ('course', 'NOUN', 'pobj'), ('of', 'ADP', 'prep'), ('trade', 'NOUN', 'pobj'), ('or', 'CCONJ', 'cc'), ('business', 'NOUN', 'conj'), (',', 'PUNCT', 'punct'), ('or', 'CCONJ', 'cc'), ('is', 'AUX', 'ROOT'), ('in', 'ADP', 'prep'), ('possession', 'NOUN', 'pobj'), ('of', 'ADP', 'prep'), ('any', 'DET', 'det'), ('goods', 'NOUN', 'pobj'), ('for', 'ADP', 'prep'), ('sale', 'NOUN', 'pobj'), ('with', 'ADP', 'prep'), ('a', 'DET', 'det'), ('false', 'ADJ', 'amod'), ('trade', 'NOUN', 'compound'), ('description', 'NOUN', 'pobj'), (',', 'PUNCT', 'punct'), ('commits', 'VERB', 'dep'), ('an', 'DET', 'det'), ('offence', 'NOUN', 'dobj'), ('.', 'PUNCT', 'punct'), ('The', 'DET', 'det'), ('maximum', 'ADJ', 'amod'), ('penalty', 'NOUN', 'nsubj'), ('upon', 'SCONJ', 'prep'), ('conviction', 'NOUN', 'pobj'), ('is', 'AUX', 'ROOT'), ('a', 'DET', 'det'), ('fine', 'NOUN', 'attr'), ('of', 'ADP', 'prep'), ('$', 'SYM', 'nmod'), ('500,000', 'NUM', 'pobj'), ('and', 'CCONJ', 'cc'), ('imprisonment', 'NOUN', 'conj'), ('for', 'ADP', 'prep'), ('five', 'NUM', 'nummod'), ('years', 'NOUN', 'pobj'), ('.', 'PUNCT', 'punct'), ('Customs', 'PROPN', 'nsubj'), ('also', 'ADV', 'advmod'), ('reminds', 'VERB', 'ROOT'), ('consumers', 'NOUN', 'dobj'), ('that', 'SCONJ', 'mark'), ('no', 'DET', 'det'), ('legally', 'ADV', 'advmod'), ('imported', 'VERB', 'amod'), ('Yangcheng', 'PROPN', 'compound'), ('Lake', 'PROPN', 'nmod'), ('hairy', 'ADJ', 'amod'), ('crabs', 'NOUN', 'nsubj'), ('are', 'AUX', 'ccomp'), ('available', 'ADJ', 'acomp'), ('for', 'ADP', 'prep'), ('sale', 'NOUN', 'pobj'), ('in', 'ADP', 'prep'), ('Hong', 'PROPN', 'compound'), ('Kong', 'PROPN', 'pobj'), ('at', 'ADP', 'prep'), ('the', 'DET', 'det'), ('moment', 'NOUN', 'pobj'), ('.', 'PUNCT', 'punct'), ('They', 'PRON', 'nsubj'), ('may', 'AUX', 'aux'), ('report', 'VERB', 'ROOT'), ('any', 'DET', 'det'), ('sale', 'NOUN', 'dobj'), ('of', 'ADP', 'prep'), ('hairy', 'ADJ', 'amod'), ('crabs', 'NOUN', 'pobj'), ('claimed', 'VERB', 'acl'), ('to', 'PART', 'aux'), ('be', 'AUX', 'xcomp'), ('from', 'ADP', 'prep'), ('Yangcheng', 'PROPN', 'compound'), ('Lake', 'PROPN', 'pobj'), ('to', 'ADP', 'prep'), ('Customs', 'PROPN', 'poss'), (\"'\", 'PART', 'case'), ('24-hour', 'NUM', 'nummod'), ('hotline', 'NOUN', 'pobj'), ('2545', 'NUM', 'npadvmod'), ('6182', 'NUM', 'appos'), ('or', 'CCONJ', 'cc'), ('its', 'PRON', 'poss'), ('dedicated', 'ADJ', 'amod'), ('crime', 'NOUN', 'npadvmod'), ('-', 'PUNCT', 'punct'), ('reporting', 'VERB', 'amod'), ('email', 'NOUN', 'compound'), ('account', 'NOUN', 'conj'), ('(', 'PUNCT', 'punct'), ('crimereport@customs.gov.hk', 'PROPN', 'dep'), (')', 'PUNCT', 'punct'), ('.', 'PUNCT', 'punct'), ('Also', 'ADV', 'advmod'), (',', 'PUNCT', 'punct'), ('Customs', 'PROPN', 'nsubj'), ('and', 'CCONJ', 'cc'), ('the', 'DET', 'det'), ('FEHD', 'NOUN', 'conj'), ('will', 'AUX', 'aux'), ('keep', 'VERB', 'ccomp'), ('up', 'ADP', 'prt'), ('their', 'PRON', 'poss'), ('close', 'ADJ', 'amod'), ('co', 'NOUN', 'dep'), ('-', 'NOUN', 'dep'), ('operation', 'NOUN', 'nmod'), ('and', 'CCONJ', 'cc'), ('intelligence', 'NOUN', 'conj'), ('exchanges', 'NOUN', 'dobj'), ('with', 'ADP', 'prep'), ('each', 'DET', 'det'), ('other', 'ADJ', 'amod'), ('and', 'CCONJ', 'cc'), ('joint', 'ADJ', 'conj'), ('operations', 'NOUN', 'pobj'), ('at', 'ADP', 'prep'), ('various', 'ADJ', 'amod'), ('boundary', 'ADJ', 'compound'), ('control', 'NOUN', 'compound'), ('points', 'NOUN', 'pobj'), ('against', 'ADP', 'prep'), ('illegal', 'ADJ', 'amod'), ('food', 'NOUN', 'compound'), ('imports', 'NOUN', 'pobj'), ('will', 'AUX', 'aux'), ('also', 'ADV', 'advmod'), ('continue', 'VERB', 'ROOT'), ('.', 'PUNCT', 'punct'), ('Both', 'DET', 'det'), ('departments', 'NOUN', 'nsubj'), ('have', 'AUX', 'aux'), ('jointly', 'ADV', 'advmod'), ('detected', 'VERB', 'ROOT'), ('two', 'NUM', 'nummod'), ('large', 'ADJ', 'amod'), ('cases', 'NOUN', 'dobj'), ('at', 'ADP', 'prep'), ('boundary', 'ADJ', 'compound'), ('control', 'NOUN', 'compound'), ('points', 'VERB', 'pobj'), ('this', 'DET', 'det'), ('month', 'NOUN', 'npadvmod'), ('and', 'CCONJ', 'cc'), ('seized', 'VERB', 'conj'), ('about', 'ADP', 'quantmod'), ('1', 'NUM', 'nummod'), ('500', 'NUM', 'nummod'), ('suspected', 'VERB', 'amod'), ('smuggled', 'VERB', 'amod'), ('hairy', 'ADJ', 'amod'), ('crabs', 'NOUN', 'dobj'), ('with', 'ADP', 'prep'), ('an', 'DET', 'det'), ('estimated', 'ADJ', 'amod'), ('market', 'NOUN', 'compound'), ('value', 'NOUN', 'pobj'), ('of', 'ADP', 'prep'), ('about', 'ADP', 'quantmod'), ('$', 'SYM', 'quantmod'), ('30,000', 'NUM', 'pobj'), ('.', 'PUNCT', 'punct'), ('Smuggling', 'NOUN', 'nsubj'), ('is', 'AUX', 'ROOT'), ('a', 'DET', 'det'), ('serious', 'ADJ', 'amod'), ('offence', 'NOUN', 'attr'), ('.', 'PUNCT', 'punct'), ('Under', 'ADP', 'prep'), ('the', 'DET', 'det'), ('Import', 'PROPN', 'nmod'), ('and', 'CCONJ', 'cc'), ('Export', 'PROPN', 'conj'), ('Ordinance', 'PROPN', 'pobj'), (',', 'PUNCT', 'punct'), ('any', 'DET', 'det'), ('person', 'NOUN', 'nsubj'), ('found', 'VERB', 'ROOT'), ('guilty', 'ADJ', 'oprd'), ('of', 'ADP', 'prep'), ('importing', 'VERB', 'pcomp'), ('or', 'CCONJ', 'cc'), ('exporting', 'VERB', 'conj'), ('unmanifested', 'ADJ', 'amod'), ('cargo', 'NOUN', 'dobj'), ('is', 'AUX', 'ccomp'), ('liable', 'ADJ', 'acomp'), ('to', 'ADP', 'prep'), ('a', 'DET', 'det'), ('maximum', 'ADJ', 'amod'), ('fine', 'NOUN', 'pobj'), ('of', 'ADP', 'prep'), ('$', 'SYM', 'quantmod'), ('2', 'NUM', 'compound'), ('million', 'NUM', 'pobj'), ('and', 'CCONJ', 'cc'), ('imprisonment', 'NOUN', 'conj'), ('for', 'ADP', 'prep'), ('seven', 'NUM', 'nummod'), ('years', 'NOUN', 'pobj'), ('.', 'PUNCT', 'punct'), (' ', 'SPACE', ''), ('(', 'PUNCT', 'punct'), ('Opens', 'VERB', 'ROOT'), ('a', 'DET', 'det'), ('new', 'ADJ', 'amod'), ('window', 'NOUN', 'dobj'), (')', 'PUNCT', 'punct'), ('Hong', 'PROPN', 'compound'), ('Kong', 'PROPN', 'compound'), ('Customs', 'PROPN', 'nsubj'), ('and', 'CCONJ', 'cc'), ('the', 'DET', 'det'), ('Food', 'PROPN', 'nmod'), ('and', 'CCONJ', 'cc'), ('Environmental', 'PROPN', 'conj'), ('Hygiene', 'PROPN', 'compound'), ('Department', 'PROPN', 'conj'), ('mounted', 'VERB', 'ROOT'), ('a', 'DET', 'det'), ('joint', 'ADJ', 'amod'), ('operation', 'NOUN', 'dobj'), ('on', 'ADP', 'prep'), ('October', 'PROPN', 'pobj'), ('21', 'NUM', 'nummod'), ('and', 'CCONJ', 'cc'), ('seized', 'VERB', 'conj'), ('19', 'NUM', 'nummod'), ('crabs', 'NOUN', 'dobj'), ('described', 'VERB', 'acl'), ('as', 'SCONJ', 'prep'), ('\"', 'PUNCT', 'punct'), ('Yangcheng', 'PROPN', 'nmod'), ('Lake', 'PROPN', 'nmod'), ('hairy', 'ADJ', 'amod'), ('crabs', 'VERB', 'pobj'), ('\"', 'PUNCT', 'punct'), ('with', 'ADP', 'prep'), ('a', 'DET', 'det'), ('suspected', 'VERB', 'amod'), ('false', 'ADJ', 'amod'), ('claim', 'NOUN', 'pobj'), ('of', 'ADP', 'prep'), ('origin', 'NOUN', 'pobj'), ('and', 'CCONJ', 'cc'), ('an', 'DET', 'det'), ('estimated', 'VERB', 'amod'), ('market', 'NOUN', 'compound'), ('value', 'NOUN', 'conj'), ('of', 'ADP', 'prep'), ('about', 'ADV', 'advmod'), ('$', 'SYM', 'quantmod'), ('1,300', 'NUM', 'pobj'), ('from', 'ADP', 'prep'), ('a', 'DET', 'det'), ('licensed', 'VERB', 'amod'), ('food', 'NOUN', 'compound'), ('premises', 'NOUN', 'pobj'), ('in', 'ADP', 'prep'), ('Causeway', 'PROPN', 'compound'), ('Bay', 'PROPN', 'pobj'), ('.', 'PUNCT', 'punct'), ('\\xa0 ', 'SPACE', ''), ('Ends', 'PROPN', 'ROOT'), ('/', 'SYM', 'punct'), ('Friday', 'PROPN', 'ROOT'), (',', 'PUNCT', 'punct'), ('October', 'PROPN', 'appos'), ('25', 'NUM', 'nummod'), (',', 'PUNCT', 'punct'), ('2019Back', 'NUM', 'nummod'), ('to', 'ADP', 'prep'), ('Press', 'PROPN', 'compound'), ('Releases', 'PROPN', 'compound'), ('Index', 'PROPN', 'compound'), ('Page', 'PROPN', 'compound'), ('Press', 'PROPN', 'compound'), ('Releases', 'NOUN', 'pobj'), ('2010', 'NUM', 'nummod'), ('Â', 'NOUN', 'compound'), ('©', 'NOUN', 'compound'), ('|', 'NOUN', 'appos'), ('      ', 'SPACE', ''), ('Important', 'PROPN', 'compound'), ('Notices|', 'PROPN', 'ROOT'), ('      ', 'SPACE', ''), ('Privacy', 'PROPN', 'compound'), ('Policy', 'PROPN', 'appos'), ('Last', 'ADJ', 'amod'), ('revision', 'NOUN', 'compound'), ('date', 'NOUN', 'ROOT'), (':', 'PUNCT', 'punct'), ('25', 'NUM', 'nummod'), ('Jul', 'PROPN', 'appos'), ('2011', 'NUM', 'appos')]\n"
     ]
    }
   ],
   "source": [
    "tokens = [(token.text, token.pos_, token.dep_) for token in nlp_text]\n",
    "print(tokens)"
   ]
  },
  {
   "cell_type": "code",
   "execution_count": 27,
   "metadata": {},
   "outputs": [
    {
     "name": "stdout",
     "output_type": "stream",
     "text": [
      "Investigation by Customs revealed that the food premises concerned earlier purchased a batch of hairy crabs, for which the country of origin was Japan and issued with relevant health certificates, from a local wholesaler.\n"
     ]
    }
   ],
   "source": [
    "sentences = [x for x in nlp_text.sents]\n",
    "print(sentences[11])"
   ]
  },
  {
   "cell_type": "code",
   "execution_count": 47,
   "metadata": {},
   "outputs": [
    {
     "data": {
      "text/html": [
       "<div class=\"entities\" style=\"line-height: 2.5; direction: ltr\"> Hong Kong Customs and \n",
       "<mark class=\"entity\" style=\"background: #7aecec; padding: 0.45em 0.6em; margin: 0 0.25em; line-height: 1; border-radius: 0.35em;\">\n",
       "    Excise Department - Press\n",
       "    <span style=\"font-size: 0.8em; font-weight: bold; line-height: 1; border-radius: 0.35em; text-transform: uppercase; vertical-align: middle; margin-left: 0.5rem\">ORG</span>\n",
       "</mark>\n",
       " Releases Skip to main content  (\n",
       "<mark class=\"entity\" style=\"background: #7aecec; padding: 0.45em 0.6em; margin: 0 0.25em; line-height: 1; border-radius: 0.35em;\">\n",
       "    Opens\n",
       "    <span style=\"font-size: 0.8em; font-weight: bold; line-height: 1; border-radius: 0.35em; text-transform: uppercase; vertical-align: middle; margin-left: 0.5rem\">ORG</span>\n",
       "</mark>\n",
       " a new window)   (\n",
       "<mark class=\"entity\" style=\"background: #7aecec; padding: 0.45em 0.6em; margin: 0 0.25em; line-height: 1; border-radius: 0.35em;\">\n",
       "    Opens\n",
       "    <span style=\"font-size: 0.8em; font-weight: bold; line-height: 1; border-radius: 0.35em; text-transform: uppercase; vertical-align: middle; margin-left: 0.5rem\">ORG</span>\n",
       "</mark>\n",
       " a new window)  </div>"
      ],
      "text/plain": [
       "<IPython.core.display.HTML object>"
      ]
     },
     "metadata": {},
     "output_type": "display_data"
    },
    {
     "data": {
      "text/html": [
       "<div class=\"entities\" style=\"line-height: 2.5; direction: ltr\">Your browser does not support \n",
       "<mark class=\"entity\" style=\"background: #7aecec; padding: 0.45em 0.6em; margin: 0 0.25em; line-height: 1; border-radius: 0.35em;\">\n",
       "    JavaScript\n",
       "    <span style=\"font-size: 0.8em; font-weight: bold; line-height: 1; border-radius: 0.35em; text-transform: uppercase; vertical-align: middle; margin-left: 0.5rem\">ORG</span>\n",
       "</mark>\n",
       " or \n",
       "<mark class=\"entity\" style=\"background: #aa9cfc; padding: 0.45em 0.6em; margin: 0 0.25em; line-height: 1; border-radius: 0.35em;\">\n",
       "    Javascript\n",
       "    <span style=\"font-size: 0.8em; font-weight: bold; line-height: 1; border-radius: 0.35em; text-transform: uppercase; vertical-align: middle; margin-left: 0.5rem\">PERSON</span>\n",
       "</mark>\n",
       " is turned off.  </div>"
      ],
      "text/plain": [
       "<IPython.core.display.HTML object>"
      ]
     },
     "metadata": {},
     "output_type": "display_data"
    },
    {
     "name": "stderr",
     "output_type": "stream",
     "text": [
      "/Users/david.dalisay/.pyenv/versions/3.6.0/lib/python3.6/runpy.py:193: UserWarning: [W006] No entities to visualize found in Doc object. If this is surprising to you, make sure the Doc was processed using a model that supports named entity recognition, and check the `doc.ents` property manually if necessary.\n",
      "  \"__main__\", mod_spec)\n"
     ]
    },
    {
     "data": {
      "text/html": [
       "<div class=\"entities\" style=\"line-height: 2.5; direction: ltr\">The features, such as printing, pop-up menu and font size customization will not be available.</div>"
      ],
      "text/plain": [
       "<IPython.core.display.HTML object>"
      ]
     },
     "metadata": {},
     "output_type": "display_data"
    },
    {
     "name": "stderr",
     "output_type": "stream",
     "text": [
      "/Users/david.dalisay/.pyenv/versions/3.6.0/lib/python3.6/runpy.py:193: UserWarning: [W006] No entities to visualize found in Doc object. If this is surprising to you, make sure the Doc was processed using a model that supports named entity recognition, and check the `doc.ents` property manually if necessary.\n",
      "  \"__main__\", mod_spec)\n"
     ]
    },
    {
     "data": {
      "text/html": [
       "<div class=\"entities\" style=\"line-height: 2.5; direction: ltr\">To go to other section or page, please press the &quot;SITE MAP&quot; button.</div>"
      ],
      "text/plain": [
       "<IPython.core.display.HTML object>"
      ]
     },
     "metadata": {},
     "output_type": "display_data"
    },
    {
     "data": {
      "text/html": [
       "<div class=\"entities\" style=\"line-height: 2.5; direction: ltr\">\n",
       "<mark class=\"entity\" style=\"background: #7aecec; padding: 0.45em 0.6em; margin: 0 0.25em; line-height: 1; border-radius: 0.35em;\">\n",
       "    Hong Kong Customs\n",
       "    <span style=\"font-size: 0.8em; font-weight: bold; line-height: 1; border-radius: 0.35em; text-transform: uppercase; vertical-align: middle; margin-left: 0.5rem\">ORG</span>\n",
       "</mark>\n",
       " mounts joint operation with \n",
       "<mark class=\"entity\" style=\"background: #7aecec; padding: 0.45em 0.6em; margin: 0 0.25em; line-height: 1; border-radius: 0.35em;\">\n",
       "    FEHD\n",
       "    <span style=\"font-size: 0.8em; font-weight: bold; line-height: 1; border-radius: 0.35em; text-transform: uppercase; vertical-align: middle; margin-left: 0.5rem\">ORG</span>\n",
       "</mark>\n",
       " and seizes &quot;\n",
       "<mark class=\"entity\" style=\"background: #aa9cfc; padding: 0.45em 0.6em; margin: 0 0.25em; line-height: 1; border-radius: 0.35em;\">\n",
       "    Yangcheng Lake\n",
       "    <span style=\"font-size: 0.8em; font-weight: bold; line-height: 1; border-radius: 0.35em; text-transform: uppercase; vertical-align: middle; margin-left: 0.5rem\">PERSON</span>\n",
       "</mark>\n",
       " hairy crabs&quot; with suspected false claim of origin at food premises (with photo) \n",
       "<mark class=\"entity\" style=\"background: #e4e7d2; padding: 0.45em 0.6em; margin: 0 0.25em; line-height: 1; border-radius: 0.35em;\">\n",
       "    25\n",
       "    <span style=\"font-size: 0.8em; font-weight: bold; line-height: 1; border-radius: 0.35em; text-transform: uppercase; vertical-align: middle; margin-left: 0.5rem\">CARDINAL</span>\n",
       "</mark>\n",
       " \n",
       "<mark class=\"entity\" style=\"background: #bfe1d9; padding: 0.45em 0.6em; margin: 0 0.25em; line-height: 1; border-radius: 0.35em;\">\n",
       "    October\n",
       "    <span style=\"font-size: 0.8em; font-weight: bold; line-height: 1; border-radius: 0.35em; text-transform: uppercase; vertical-align: middle; margin-left: 0.5rem\">DATE</span>\n",
       "</mark>\n",
       " \n",
       "<mark class=\"entity\" style=\"background: #bfe1d9; padding: 0.45em 0.6em; margin: 0 0.25em; line-height: 1; border-radius: 0.35em;\">\n",
       "    2019\n",
       "    <span style=\"font-size: 0.8em; font-weight: bold; line-height: 1; border-radius: 0.35em; text-transform: uppercase; vertical-align: middle; margin-left: 0.5rem\">DATE</span>\n",
       "</mark>\n",
       " âHong</div>"
      ],
      "text/plain": [
       "<IPython.core.display.HTML object>"
      ]
     },
     "metadata": {},
     "output_type": "display_data"
    },
    {
     "data": {
      "text/html": [
       "<div class=\"entities\" style=\"line-height: 2.5; direction: ltr\">\n",
       "<mark class=\"entity\" style=\"background: #aa9cfc; padding: 0.45em 0.6em; margin: 0 0.25em; line-height: 1; border-radius: 0.35em;\">\n",
       "    Kong Customs\n",
       "    <span style=\"font-size: 0.8em; font-weight: bold; line-height: 1; border-radius: 0.35em; text-transform: uppercase; vertical-align: middle; margin-left: 0.5rem\">PERSON</span>\n",
       "</mark>\n",
       " and \n",
       "<mark class=\"entity\" style=\"background: #7aecec; padding: 0.45em 0.6em; margin: 0 0.25em; line-height: 1; border-radius: 0.35em;\">\n",
       "    the Food and Environmental Hygiene Department\n",
       "    <span style=\"font-size: 0.8em; font-weight: bold; line-height: 1; border-radius: 0.35em; text-transform: uppercase; vertical-align: middle; margin-left: 0.5rem\">ORG</span>\n",
       "</mark>\n",
       " (\n",
       "<mark class=\"entity\" style=\"background: #7aecec; padding: 0.45em 0.6em; margin: 0 0.25em; line-height: 1; border-radius: 0.35em;\">\n",
       "    FEHD\n",
       "    <span style=\"font-size: 0.8em; font-weight: bold; line-height: 1; border-radius: 0.35em; text-transform: uppercase; vertical-align: middle; margin-left: 0.5rem\">ORG</span>\n",
       "</mark>\n",
       ") mounted a joint operation on \n",
       "<mark class=\"entity\" style=\"background: #bfe1d9; padding: 0.45em 0.6em; margin: 0 0.25em; line-height: 1; border-radius: 0.35em;\">\n",
       "    October 21\n",
       "    <span style=\"font-size: 0.8em; font-weight: bold; line-height: 1; border-radius: 0.35em; text-transform: uppercase; vertical-align: middle; margin-left: 0.5rem\">DATE</span>\n",
       "</mark>\n",
       " and seized \n",
       "<mark class=\"entity\" style=\"background: #e4e7d2; padding: 0.45em 0.6em; margin: 0 0.25em; line-height: 1; border-radius: 0.35em;\">\n",
       "    19\n",
       "    <span style=\"font-size: 0.8em; font-weight: bold; line-height: 1; border-radius: 0.35em; text-transform: uppercase; vertical-align: middle; margin-left: 0.5rem\">CARDINAL</span>\n",
       "</mark>\n",
       " crabs described as &quot;\n",
       "<mark class=\"entity\" style=\"background: #ff9561; padding: 0.45em 0.6em; margin: 0 0.25em; line-height: 1; border-radius: 0.35em;\">\n",
       "    Yangcheng Lake\n",
       "    <span style=\"font-size: 0.8em; font-weight: bold; line-height: 1; border-radius: 0.35em; text-transform: uppercase; vertical-align: middle; margin-left: 0.5rem\">LOC</span>\n",
       "</mark>\n",
       " hairy crabs&quot; with a suspected false claim of origin and an estimated market value of \n",
       "<mark class=\"entity\" style=\"background: #e4e7d2; padding: 0.45em 0.6em; margin: 0 0.25em; line-height: 1; border-radius: 0.35em;\">\n",
       "    about $1,300\n",
       "    <span style=\"font-size: 0.8em; font-weight: bold; line-height: 1; border-radius: 0.35em; text-transform: uppercase; vertical-align: middle; margin-left: 0.5rem\">MONEY</span>\n",
       "</mark>\n",
       " from a licensed food premises in \n",
       "<mark class=\"entity\" style=\"background: #ff9561; padding: 0.45em 0.6em; margin: 0 0.25em; line-height: 1; border-radius: 0.35em;\">\n",
       "    Causeway Bay\n",
       "    <span style=\"font-size: 0.8em; font-weight: bold; line-height: 1; border-radius: 0.35em; text-transform: uppercase; vertical-align: middle; margin-left: 0.5rem\">LOC</span>\n",
       "</mark>\n",
       ".</div>"
      ],
      "text/plain": [
       "<IPython.core.display.HTML object>"
      ]
     },
     "metadata": {},
     "output_type": "display_data"
    },
    {
     "data": {
      "text/html": [
       "<div class=\"entities\" style=\"line-height: 2.5; direction: ltr\">In response to intelligence, the \n",
       "<mark class=\"entity\" style=\"background: #7aecec; padding: 0.45em 0.6em; margin: 0 0.25em; line-height: 1; border-radius: 0.35em;\">\n",
       "    FEHD\n",
       "    <span style=\"font-size: 0.8em; font-weight: bold; line-height: 1; border-radius: 0.35em; text-transform: uppercase; vertical-align: middle; margin-left: 0.5rem\">ORG</span>\n",
       "</mark>\n",
       " suspected that the food premises had in its possession &quot;\n",
       "<mark class=\"entity\" style=\"background: #aa9cfc; padding: 0.45em 0.6em; margin: 0 0.25em; line-height: 1; border-radius: 0.35em;\">\n",
       "    Yangcheng Lake\n",
       "    <span style=\"font-size: 0.8em; font-weight: bold; line-height: 1; border-radius: 0.35em; text-transform: uppercase; vertical-align: middle; margin-left: 0.5rem\">PERSON</span>\n",
       "</mark>\n",
       " hairy crabs&quot; which were displayed for sale.</div>"
      ],
      "text/plain": [
       "<IPython.core.display.HTML object>"
      ]
     },
     "metadata": {},
     "output_type": "display_data"
    },
    {
     "data": {
      "text/html": [
       "<div class=\"entities\" style=\"line-height: 2.5; direction: ltr\">However, according to the \n",
       "<mark class=\"entity\" style=\"background: #7aecec; padding: 0.45em 0.6em; margin: 0 0.25em; line-height: 1; border-radius: 0.35em;\">\n",
       "    FEHD\n",
       "    <span style=\"font-size: 0.8em; font-weight: bold; line-height: 1; border-radius: 0.35em; text-transform: uppercase; vertical-align: middle; margin-left: 0.5rem\">ORG</span>\n",
       "</mark>\n",
       "'s information, no imported \n",
       "<mark class=\"entity\" style=\"background: #aa9cfc; padding: 0.45em 0.6em; margin: 0 0.25em; line-height: 1; border-radius: 0.35em;\">\n",
       "    Yangcheng Lake\n",
       "    <span style=\"font-size: 0.8em; font-weight: bold; line-height: 1; border-radius: 0.35em; text-transform: uppercase; vertical-align: middle; margin-left: 0.5rem\">PERSON</span>\n",
       "</mark>\n",
       " hairy crabs are available for sale in \n",
       "<mark class=\"entity\" style=\"background: #feca74; padding: 0.45em 0.6em; margin: 0 0.25em; line-height: 1; border-radius: 0.35em;\">\n",
       "    Hong Kong\n",
       "    <span style=\"font-size: 0.8em; font-weight: bold; line-height: 1; border-radius: 0.35em; text-transform: uppercase; vertical-align: middle; margin-left: 0.5rem\">GPE</span>\n",
       "</mark>\n",
       " at the moment.</div>"
      ],
      "text/plain": [
       "<IPython.core.display.HTML object>"
      ]
     },
     "metadata": {},
     "output_type": "display_data"
    },
    {
     "data": {
      "text/html": [
       "<div class=\"entities\" style=\"line-height: 2.5; direction: ltr\">A joint operation was then conducted with \n",
       "<mark class=\"entity\" style=\"background: #7aecec; padding: 0.45em 0.6em; margin: 0 0.25em; line-height: 1; border-radius: 0.35em;\">\n",
       "    Customs\n",
       "    <span style=\"font-size: 0.8em; font-weight: bold; line-height: 1; border-radius: 0.35em; text-transform: uppercase; vertical-align: middle; margin-left: 0.5rem\">ORG</span>\n",
       "</mark>\n",
       ".</div>"
      ],
      "text/plain": [
       "<IPython.core.display.HTML object>"
      ]
     },
     "metadata": {},
     "output_type": "display_data"
    },
    {
     "data": {
      "text/html": [
       "<div class=\"entities\" style=\"line-height: 2.5; direction: ltr\">In the operation, \n",
       "<mark class=\"entity\" style=\"background: #7aecec; padding: 0.45em 0.6em; margin: 0 0.25em; line-height: 1; border-radius: 0.35em;\">\n",
       "    Customs\n",
       "    <span style=\"font-size: 0.8em; font-weight: bold; line-height: 1; border-radius: 0.35em; text-transform: uppercase; vertical-align: middle; margin-left: 0.5rem\">ORG</span>\n",
       "</mark>\n",
       " officers seized \n",
       "<mark class=\"entity\" style=\"background: #e4e7d2; padding: 0.45em 0.6em; margin: 0 0.25em; line-height: 1; border-radius: 0.35em;\">\n",
       "    19\n",
       "    <span style=\"font-size: 0.8em; font-weight: bold; line-height: 1; border-radius: 0.35em; text-transform: uppercase; vertical-align: middle; margin-left: 0.5rem\">CARDINAL</span>\n",
       "</mark>\n",
       " &quot;\n",
       "<mark class=\"entity\" style=\"background: #ff9561; padding: 0.45em 0.6em; margin: 0 0.25em; line-height: 1; border-radius: 0.35em;\">\n",
       "    Yangcheng Lake\n",
       "    <span style=\"font-size: 0.8em; font-weight: bold; line-height: 1; border-radius: 0.35em; text-transform: uppercase; vertical-align: middle; margin-left: 0.5rem\">LOC</span>\n",
       "</mark>\n",
       " hairy crabs&quot; with a suspected false claim of origin from the food premises.</div>"
      ],
      "text/plain": [
       "<IPython.core.display.HTML object>"
      ]
     },
     "metadata": {},
     "output_type": "display_data"
    },
    {
     "name": "stderr",
     "output_type": "stream",
     "text": [
      "/Users/david.dalisay/.pyenv/versions/3.6.0/lib/python3.6/runpy.py:193: UserWarning: [W006] No entities to visualize found in Doc object. If this is surprising to you, make sure the Doc was processed using a model that supports named entity recognition, and check the `doc.ents` property manually if necessary.\n",
      "  \"__main__\", mod_spec)\n"
     ]
    },
    {
     "data": {
      "text/html": [
       "<div class=\"entities\" style=\"line-height: 2.5; direction: ltr\">A 32-year-old male manager was arrested for suspected violation of the Trade Descriptions Ordinance (TDO).</div>"
      ],
      "text/plain": [
       "<IPython.core.display.HTML object>"
      ]
     },
     "metadata": {},
     "output_type": "display_data"
    },
    {
     "data": {
      "text/html": [
       "<div class=\"entities\" style=\"line-height: 2.5; direction: ltr\">Investigation by \n",
       "<mark class=\"entity\" style=\"background: #7aecec; padding: 0.45em 0.6em; margin: 0 0.25em; line-height: 1; border-radius: 0.35em;\">\n",
       "    Customs\n",
       "    <span style=\"font-size: 0.8em; font-weight: bold; line-height: 1; border-radius: 0.35em; text-transform: uppercase; vertical-align: middle; margin-left: 0.5rem\">ORG</span>\n",
       "</mark>\n",
       " revealed that the food premises concerned earlier purchased a batch of hairy crabs, for which the country of origin was \n",
       "<mark class=\"entity\" style=\"background: #feca74; padding: 0.45em 0.6em; margin: 0 0.25em; line-height: 1; border-radius: 0.35em;\">\n",
       "    Japan\n",
       "    <span style=\"font-size: 0.8em; font-weight: bold; line-height: 1; border-radius: 0.35em; text-transform: uppercase; vertical-align: middle; margin-left: 0.5rem\">GPE</span>\n",
       "</mark>\n",
       " and issued with relevant health certificates, from a local wholesaler.</div>"
      ],
      "text/plain": [
       "<IPython.core.display.HTML object>"
      ]
     },
     "metadata": {},
     "output_type": "display_data"
    },
    {
     "name": "stderr",
     "output_type": "stream",
     "text": [
      "/Users/david.dalisay/.pyenv/versions/3.6.0/lib/python3.6/runpy.py:193: UserWarning: [W006] No entities to visualize found in Doc object. If this is surprising to you, make sure the Doc was processed using a model that supports named entity recognition, and check the `doc.ents` property manually if necessary.\n",
      "  \"__main__\", mod_spec)\n"
     ]
    },
    {
     "data": {
      "text/html": [
       "<div class=\"entities\" style=\"line-height: 2.5; direction: ltr\">Investigation is ongoing.</div>"
      ],
      "text/plain": [
       "<IPython.core.display.HTML object>"
      ]
     },
     "metadata": {},
     "output_type": "display_data"
    },
    {
     "data": {
      "text/html": [
       "<div class=\"entities\" style=\"line-height: 2.5; direction: ltr\">\n",
       "<mark class=\"entity\" style=\"background: #7aecec; padding: 0.45em 0.6em; margin: 0 0.25em; line-height: 1; border-radius: 0.35em;\">\n",
       "    Customs\n",
       "    <span style=\"font-size: 0.8em; font-weight: bold; line-height: 1; border-radius: 0.35em; text-transform: uppercase; vertical-align: middle; margin-left: 0.5rem\">ORG</span>\n",
       "</mark>\n",
       " reminds traders to comply with the requirements of the \n",
       "<mark class=\"entity\" style=\"background: #7aecec; padding: 0.45em 0.6em; margin: 0 0.25em; line-height: 1; border-radius: 0.35em;\">\n",
       "    TDO\n",
       "    <span style=\"font-size: 0.8em; font-weight: bold; line-height: 1; border-radius: 0.35em; text-transform: uppercase; vertical-align: middle; margin-left: 0.5rem\">ORG</span>\n",
       "</mark>\n",
       ".</div>"
      ],
      "text/plain": [
       "<IPython.core.display.HTML object>"
      ]
     },
     "metadata": {},
     "output_type": "display_data"
    },
    {
     "name": "stderr",
     "output_type": "stream",
     "text": [
      "/Users/david.dalisay/.pyenv/versions/3.6.0/lib/python3.6/runpy.py:193: UserWarning: [W006] No entities to visualize found in Doc object. If this is surprising to you, make sure the Doc was processed using a model that supports named entity recognition, and check the `doc.ents` property manually if necessary.\n",
      "  \"__main__\", mod_spec)\n"
     ]
    },
    {
     "data": {
      "text/html": [
       "<div class=\"entities\" style=\"line-height: 2.5; direction: ltr\">Under the Ordinance, any person who supplies goods with a false trade description in the course of trade or business, or is in possession of any goods for sale with a false trade description, commits an offence.</div>"
      ],
      "text/plain": [
       "<IPython.core.display.HTML object>"
      ]
     },
     "metadata": {},
     "output_type": "display_data"
    },
    {
     "data": {
      "text/html": [
       "<div class=\"entities\" style=\"line-height: 2.5; direction: ltr\">The maximum penalty upon conviction is a fine of $\n",
       "<mark class=\"entity\" style=\"background: #e4e7d2; padding: 0.45em 0.6em; margin: 0 0.25em; line-height: 1; border-radius: 0.35em;\">\n",
       "    500,000\n",
       "    <span style=\"font-size: 0.8em; font-weight: bold; line-height: 1; border-radius: 0.35em; text-transform: uppercase; vertical-align: middle; margin-left: 0.5rem\">MONEY</span>\n",
       "</mark>\n",
       " and imprisonment for \n",
       "<mark class=\"entity\" style=\"background: #bfe1d9; padding: 0.45em 0.6em; margin: 0 0.25em; line-height: 1; border-radius: 0.35em;\">\n",
       "    five years\n",
       "    <span style=\"font-size: 0.8em; font-weight: bold; line-height: 1; border-radius: 0.35em; text-transform: uppercase; vertical-align: middle; margin-left: 0.5rem\">DATE</span>\n",
       "</mark>\n",
       ".</div>"
      ],
      "text/plain": [
       "<IPython.core.display.HTML object>"
      ]
     },
     "metadata": {},
     "output_type": "display_data"
    },
    {
     "data": {
      "text/html": [
       "<div class=\"entities\" style=\"line-height: 2.5; direction: ltr\">\n",
       "<mark class=\"entity\" style=\"background: #7aecec; padding: 0.45em 0.6em; margin: 0 0.25em; line-height: 1; border-radius: 0.35em;\">\n",
       "    Customs\n",
       "    <span style=\"font-size: 0.8em; font-weight: bold; line-height: 1; border-radius: 0.35em; text-transform: uppercase; vertical-align: middle; margin-left: 0.5rem\">ORG</span>\n",
       "</mark>\n",
       " also reminds consumers that no legally imported \n",
       "<mark class=\"entity\" style=\"background: #aa9cfc; padding: 0.45em 0.6em; margin: 0 0.25em; line-height: 1; border-radius: 0.35em;\">\n",
       "    Yangcheng Lake\n",
       "    <span style=\"font-size: 0.8em; font-weight: bold; line-height: 1; border-radius: 0.35em; text-transform: uppercase; vertical-align: middle; margin-left: 0.5rem\">PERSON</span>\n",
       "</mark>\n",
       " hairy crabs are available for sale in \n",
       "<mark class=\"entity\" style=\"background: #feca74; padding: 0.45em 0.6em; margin: 0 0.25em; line-height: 1; border-radius: 0.35em;\">\n",
       "    Hong Kong\n",
       "    <span style=\"font-size: 0.8em; font-weight: bold; line-height: 1; border-radius: 0.35em; text-transform: uppercase; vertical-align: middle; margin-left: 0.5rem\">GPE</span>\n",
       "</mark>\n",
       " at the moment.</div>"
      ],
      "text/plain": [
       "<IPython.core.display.HTML object>"
      ]
     },
     "metadata": {},
     "output_type": "display_data"
    },
    {
     "data": {
      "text/html": [
       "<div class=\"entities\" style=\"line-height: 2.5; direction: ltr\">They may report any sale of hairy crabs claimed to be from \n",
       "<mark class=\"entity\" style=\"background: #aa9cfc; padding: 0.45em 0.6em; margin: 0 0.25em; line-height: 1; border-radius: 0.35em;\">\n",
       "    Yangcheng Lake\n",
       "    <span style=\"font-size: 0.8em; font-weight: bold; line-height: 1; border-radius: 0.35em; text-transform: uppercase; vertical-align: middle; margin-left: 0.5rem\">PERSON</span>\n",
       "</mark>\n",
       " to \n",
       "<mark class=\"entity\" style=\"background: #7aecec; padding: 0.45em 0.6em; margin: 0 0.25em; line-height: 1; border-radius: 0.35em;\">\n",
       "    Customs\n",
       "    <span style=\"font-size: 0.8em; font-weight: bold; line-height: 1; border-radius: 0.35em; text-transform: uppercase; vertical-align: middle; margin-left: 0.5rem\">ORG</span>\n",
       "</mark>\n",
       "' 24-hour hotline \n",
       "<mark class=\"entity\" style=\"background: #bfe1d9; padding: 0.45em 0.6em; margin: 0 0.25em; line-height: 1; border-radius: 0.35em;\">\n",
       "    2545 6182\n",
       "    <span style=\"font-size: 0.8em; font-weight: bold; line-height: 1; border-radius: 0.35em; text-transform: uppercase; vertical-align: middle; margin-left: 0.5rem\">DATE</span>\n",
       "</mark>\n",
       " or its dedicated crime-reporting email account (\n",
       "<mark class=\"entity\" style=\"background: #c887fb; padding: 0.45em 0.6em; margin: 0 0.25em; line-height: 1; border-radius: 0.35em;\">\n",
       "    crimereport@customs.gov.hk\n",
       "    <span style=\"font-size: 0.8em; font-weight: bold; line-height: 1; border-radius: 0.35em; text-transform: uppercase; vertical-align: middle; margin-left: 0.5rem\">NORP</span>\n",
       "</mark>\n",
       ").</div>"
      ],
      "text/plain": [
       "<IPython.core.display.HTML object>"
      ]
     },
     "metadata": {},
     "output_type": "display_data"
    },
    {
     "data": {
      "text/html": [
       "<div class=\"entities\" style=\"line-height: 2.5; direction: ltr\">Also, \n",
       "<mark class=\"entity\" style=\"background: #7aecec; padding: 0.45em 0.6em; margin: 0 0.25em; line-height: 1; border-radius: 0.35em;\">\n",
       "    Customs\n",
       "    <span style=\"font-size: 0.8em; font-weight: bold; line-height: 1; border-radius: 0.35em; text-transform: uppercase; vertical-align: middle; margin-left: 0.5rem\">ORG</span>\n",
       "</mark>\n",
       " and the \n",
       "<mark class=\"entity\" style=\"background: #7aecec; padding: 0.45em 0.6em; margin: 0 0.25em; line-height: 1; border-radius: 0.35em;\">\n",
       "    FEHD\n",
       "    <span style=\"font-size: 0.8em; font-weight: bold; line-height: 1; border-radius: 0.35em; text-transform: uppercase; vertical-align: middle; margin-left: 0.5rem\">ORG</span>\n",
       "</mark>\n",
       " will keep up their close co-operation and intelligence exchanges with each other and joint operations at various boundary control points against illegal food imports will also continue.</div>"
      ],
      "text/plain": [
       "<IPython.core.display.HTML object>"
      ]
     },
     "metadata": {},
     "output_type": "display_data"
    },
    {
     "data": {
      "text/html": [
       "<div class=\"entities\" style=\"line-height: 2.5; direction: ltr\">Both departments have jointly detected \n",
       "<mark class=\"entity\" style=\"background: #e4e7d2; padding: 0.45em 0.6em; margin: 0 0.25em; line-height: 1; border-radius: 0.35em;\">\n",
       "    two\n",
       "    <span style=\"font-size: 0.8em; font-weight: bold; line-height: 1; border-radius: 0.35em; text-transform: uppercase; vertical-align: middle; margin-left: 0.5rem\">CARDINAL</span>\n",
       "</mark>\n",
       " large cases at boundary control points \n",
       "<mark class=\"entity\" style=\"background: #bfe1d9; padding: 0.45em 0.6em; margin: 0 0.25em; line-height: 1; border-radius: 0.35em;\">\n",
       "    this month\n",
       "    <span style=\"font-size: 0.8em; font-weight: bold; line-height: 1; border-radius: 0.35em; text-transform: uppercase; vertical-align: middle; margin-left: 0.5rem\">DATE</span>\n",
       "</mark>\n",
       " and seized \n",
       "<mark class=\"entity\" style=\"background: #e4e7d2; padding: 0.45em 0.6em; margin: 0 0.25em; line-height: 1; border-radius: 0.35em;\">\n",
       "    about 1 500\n",
       "    <span style=\"font-size: 0.8em; font-weight: bold; line-height: 1; border-radius: 0.35em; text-transform: uppercase; vertical-align: middle; margin-left: 0.5rem\">CARDINAL</span>\n",
       "</mark>\n",
       " suspected smuggled hairy crabs with an estimated market value of \n",
       "<mark class=\"entity\" style=\"background: #e4e7d2; padding: 0.45em 0.6em; margin: 0 0.25em; line-height: 1; border-radius: 0.35em;\">\n",
       "    about $30,000\n",
       "    <span style=\"font-size: 0.8em; font-weight: bold; line-height: 1; border-radius: 0.35em; text-transform: uppercase; vertical-align: middle; margin-left: 0.5rem\">MONEY</span>\n",
       "</mark>\n",
       ".</div>"
      ],
      "text/plain": [
       "<IPython.core.display.HTML object>"
      ]
     },
     "metadata": {},
     "output_type": "display_data"
    },
    {
     "name": "stderr",
     "output_type": "stream",
     "text": [
      "/Users/david.dalisay/.pyenv/versions/3.6.0/lib/python3.6/runpy.py:193: UserWarning: [W006] No entities to visualize found in Doc object. If this is surprising to you, make sure the Doc was processed using a model that supports named entity recognition, and check the `doc.ents` property manually if necessary.\n",
      "  \"__main__\", mod_spec)\n"
     ]
    },
    {
     "data": {
      "text/html": [
       "<div class=\"entities\" style=\"line-height: 2.5; direction: ltr\">Smuggling is a serious offence.</div>"
      ],
      "text/plain": [
       "<IPython.core.display.HTML object>"
      ]
     },
     "metadata": {},
     "output_type": "display_data"
    },
    {
     "data": {
      "text/html": [
       "<div class=\"entities\" style=\"line-height: 2.5; direction: ltr\">Under \n",
       "<mark class=\"entity\" style=\"background: #7aecec; padding: 0.45em 0.6em; margin: 0 0.25em; line-height: 1; border-radius: 0.35em;\">\n",
       "    the Import and Export Ordinance\n",
       "    <span style=\"font-size: 0.8em; font-weight: bold; line-height: 1; border-radius: 0.35em; text-transform: uppercase; vertical-align: middle; margin-left: 0.5rem\">ORG</span>\n",
       "</mark>\n",
       ", any person found guilty of importing or exporting unmanifested cargo is liable to a maximum fine of \n",
       "<mark class=\"entity\" style=\"background: #e4e7d2; padding: 0.45em 0.6em; margin: 0 0.25em; line-height: 1; border-radius: 0.35em;\">\n",
       "    $2 million\n",
       "    <span style=\"font-size: 0.8em; font-weight: bold; line-height: 1; border-radius: 0.35em; text-transform: uppercase; vertical-align: middle; margin-left: 0.5rem\">MONEY</span>\n",
       "</mark>\n",
       " and imprisonment for \n",
       "<mark class=\"entity\" style=\"background: #bfe1d9; padding: 0.45em 0.6em; margin: 0 0.25em; line-height: 1; border-radius: 0.35em;\">\n",
       "    seven years\n",
       "    <span style=\"font-size: 0.8em; font-weight: bold; line-height: 1; border-radius: 0.35em; text-transform: uppercase; vertical-align: middle; margin-left: 0.5rem\">DATE</span>\n",
       "</mark>\n",
       ".  </div>"
      ],
      "text/plain": [
       "<IPython.core.display.HTML object>"
      ]
     },
     "metadata": {},
     "output_type": "display_data"
    },
    {
     "data": {
      "text/html": [
       "<div class=\"entities\" style=\"line-height: 2.5; direction: ltr\">(\n",
       "<mark class=\"entity\" style=\"background: #7aecec; padding: 0.45em 0.6em; margin: 0 0.25em; line-height: 1; border-radius: 0.35em;\">\n",
       "    Opens\n",
       "    <span style=\"font-size: 0.8em; font-weight: bold; line-height: 1; border-radius: 0.35em; text-transform: uppercase; vertical-align: middle; margin-left: 0.5rem\">ORG</span>\n",
       "</mark>\n",
       " a new window)</div>"
      ],
      "text/plain": [
       "<IPython.core.display.HTML object>"
      ]
     },
     "metadata": {},
     "output_type": "display_data"
    },
    {
     "data": {
      "text/html": [
       "<div class=\"entities\" style=\"line-height: 2.5; direction: ltr\">\n",
       "<mark class=\"entity\" style=\"background: #feca74; padding: 0.45em 0.6em; margin: 0 0.25em; line-height: 1; border-radius: 0.35em;\">\n",
       "    Hong Kong Customs\n",
       "    <span style=\"font-size: 0.8em; font-weight: bold; line-height: 1; border-radius: 0.35em; text-transform: uppercase; vertical-align: middle; margin-left: 0.5rem\">GPE</span>\n",
       "</mark>\n",
       " and \n",
       "<mark class=\"entity\" style=\"background: #7aecec; padding: 0.45em 0.6em; margin: 0 0.25em; line-height: 1; border-radius: 0.35em;\">\n",
       "    the Food and Environmental Hygiene Department\n",
       "    <span style=\"font-size: 0.8em; font-weight: bold; line-height: 1; border-radius: 0.35em; text-transform: uppercase; vertical-align: middle; margin-left: 0.5rem\">ORG</span>\n",
       "</mark>\n",
       " mounted a joint operation on \n",
       "<mark class=\"entity\" style=\"background: #bfe1d9; padding: 0.45em 0.6em; margin: 0 0.25em; line-height: 1; border-radius: 0.35em;\">\n",
       "    October 21\n",
       "    <span style=\"font-size: 0.8em; font-weight: bold; line-height: 1; border-radius: 0.35em; text-transform: uppercase; vertical-align: middle; margin-left: 0.5rem\">DATE</span>\n",
       "</mark>\n",
       " and seized \n",
       "<mark class=\"entity\" style=\"background: #e4e7d2; padding: 0.45em 0.6em; margin: 0 0.25em; line-height: 1; border-radius: 0.35em;\">\n",
       "    19\n",
       "    <span style=\"font-size: 0.8em; font-weight: bold; line-height: 1; border-radius: 0.35em; text-transform: uppercase; vertical-align: middle; margin-left: 0.5rem\">CARDINAL</span>\n",
       "</mark>\n",
       " crabs described as &quot;\n",
       "<mark class=\"entity\" style=\"background: #ff9561; padding: 0.45em 0.6em; margin: 0 0.25em; line-height: 1; border-radius: 0.35em;\">\n",
       "    Yangcheng Lake\n",
       "    <span style=\"font-size: 0.8em; font-weight: bold; line-height: 1; border-radius: 0.35em; text-transform: uppercase; vertical-align: middle; margin-left: 0.5rem\">LOC</span>\n",
       "</mark>\n",
       " hairy crabs&quot; with a suspected false claim of origin and an estimated market value of \n",
       "<mark class=\"entity\" style=\"background: #e4e7d2; padding: 0.45em 0.6em; margin: 0 0.25em; line-height: 1; border-radius: 0.35em;\">\n",
       "    about $1,300\n",
       "    <span style=\"font-size: 0.8em; font-weight: bold; line-height: 1; border-radius: 0.35em; text-transform: uppercase; vertical-align: middle; margin-left: 0.5rem\">MONEY</span>\n",
       "</mark>\n",
       " from a licensed food premises in \n",
       "<mark class=\"entity\" style=\"background: #ff9561; padding: 0.45em 0.6em; margin: 0 0.25em; line-height: 1; border-radius: 0.35em;\">\n",
       "    Causeway Bay\n",
       "    <span style=\"font-size: 0.8em; font-weight: bold; line-height: 1; border-radius: 0.35em; text-transform: uppercase; vertical-align: middle; margin-left: 0.5rem\">LOC</span>\n",
       "</mark>\n",
       ".   </div>"
      ],
      "text/plain": [
       "<IPython.core.display.HTML object>"
      ]
     },
     "metadata": {},
     "output_type": "display_data"
    },
    {
     "name": "stderr",
     "output_type": "stream",
     "text": [
      "/Users/david.dalisay/.pyenv/versions/3.6.0/lib/python3.6/runpy.py:193: UserWarning: [W006] No entities to visualize found in Doc object. If this is surprising to you, make sure the Doc was processed using a model that supports named entity recognition, and check the `doc.ents` property manually if necessary.\n",
      "  \"__main__\", mod_spec)\n"
     ]
    },
    {
     "data": {
      "text/html": [
       "<div class=\"entities\" style=\"line-height: 2.5; direction: ltr\">Ends/</div>"
      ],
      "text/plain": [
       "<IPython.core.display.HTML object>"
      ]
     },
     "metadata": {},
     "output_type": "display_data"
    },
    {
     "data": {
      "text/html": [
       "<div class=\"entities\" style=\"line-height: 2.5; direction: ltr\">\n",
       "<mark class=\"entity\" style=\"background: #bfe1d9; padding: 0.45em 0.6em; margin: 0 0.25em; line-height: 1; border-radius: 0.35em;\">\n",
       "    Friday, October 25\n",
       "    <span style=\"font-size: 0.8em; font-weight: bold; line-height: 1; border-radius: 0.35em; text-transform: uppercase; vertical-align: middle; margin-left: 0.5rem\">DATE</span>\n",
       "</mark>\n",
       ", 2019Back to Press Releases Index Page Press Releases 2010 Â© |       </div>"
      ],
      "text/plain": [
       "<IPython.core.display.HTML object>"
      ]
     },
     "metadata": {},
     "output_type": "display_data"
    },
    {
     "data": {
      "text/html": [
       "<div class=\"entities\" style=\"line-height: 2.5; direction: ltr\">Important Notices|       \n",
       "<mark class=\"entity\" style=\"background: #aa9cfc; padding: 0.45em 0.6em; margin: 0 0.25em; line-height: 1; border-radius: 0.35em;\">\n",
       "    Privacy Policy\n",
       "    <span style=\"font-size: 0.8em; font-weight: bold; line-height: 1; border-radius: 0.35em; text-transform: uppercase; vertical-align: middle; margin-left: 0.5rem\">PERSON</span>\n",
       "</mark>\n",
       "</div>"
      ],
      "text/plain": [
       "<IPython.core.display.HTML object>"
      ]
     },
     "metadata": {},
     "output_type": "display_data"
    },
    {
     "data": {
      "text/html": [
       "<div class=\"entities\" style=\"line-height: 2.5; direction: ltr\">Last revision date: \n",
       "<mark class=\"entity\" style=\"background: #e4e7d2; padding: 0.45em 0.6em; margin: 0 0.25em; line-height: 1; border-radius: 0.35em;\">\n",
       "    25\n",
       "    <span style=\"font-size: 0.8em; font-weight: bold; line-height: 1; border-radius: 0.35em; text-transform: uppercase; vertical-align: middle; margin-left: 0.5rem\">CARDINAL</span>\n",
       "</mark>\n",
       " Jul 2011</div>"
      ],
      "text/plain": [
       "<IPython.core.display.HTML object>"
      ]
     },
     "metadata": {},
     "output_type": "display_data"
    }
   ],
   "source": [
    "for sentence in sentences:\n",
    "    displacy.render(nlp(str(sentence)), jupyter=True, style='ent', options={})"
   ]
  },
  {
   "cell_type": "code",
   "execution_count": 62,
   "metadata": {},
   "outputs": [
    {
     "data": {
      "text/plain": [
       "{'CARDINAL', 'DATE', 'GPE', 'LOC', 'MONEY', 'NORP', 'ORG', 'PERSON'}"
      ]
     },
     "execution_count": 62,
     "metadata": {},
     "output_type": "execute_result"
    }
   ],
   "source": [
    "set([e.label_ for e in nlp_text.ents])"
   ]
  },
  {
   "cell_type": "code",
   "execution_count": 63,
   "metadata": {},
   "outputs": [
    {
     "data": {
      "text/plain": [
       "[('crimereport@customs.gov.hk', 'NORP')]"
      ]
     },
     "execution_count": 63,
     "metadata": {},
     "output_type": "execute_result"
    }
   ],
   "source": [
    "[(e.text, e.label_) for e in nlp_text.ents if e.label_ == 'NORP']"
   ]
  },
  {
   "cell_type": "code",
   "execution_count": 86,
   "metadata": {},
   "outputs": [
    {
     "ename": "TypeError",
     "evalue": "Argument 'string' has incorrect type (expected str, got spacy.tokens.token.Token)",
     "output_type": "error",
     "traceback": [
      "\u001b[0;31m---------------------------------------------------------------------------\u001b[0m",
      "\u001b[0;31mTypeError\u001b[0m                                 Traceback (most recent call last)",
      "\u001b[0;32m<ipython-input-86-ead73cecb4d6>\u001b[0m in \u001b[0;36m<module>\u001b[0;34m\u001b[0m\n\u001b[1;32m      1\u001b[0m \u001b[0;32mfor\u001b[0m \u001b[0mword\u001b[0m \u001b[0;32min\u001b[0m \u001b[0msentences\u001b[0m\u001b[0;34m[\u001b[0m\u001b[0;36m11\u001b[0m\u001b[0;34m]\u001b[0m\u001b[0;34m:\u001b[0m\u001b[0;34m\u001b[0m\u001b[0m\n\u001b[0;32m----> 2\u001b[0;31m     \u001b[0mword_with_label\u001b[0m \u001b[0;34m=\u001b[0m \u001b[0mnlp\u001b[0m\u001b[0;34m(\u001b[0m\u001b[0mword\u001b[0m\u001b[0;34m)\u001b[0m\u001b[0;34m\u001b[0m\u001b[0m\n\u001b[0m\u001b[1;32m      3\u001b[0m     \u001b[0mprint\u001b[0m\u001b[0;34m(\u001b[0m\u001b[0mword_with_label\u001b[0m\u001b[0;34m.\u001b[0m\u001b[0mlabel_\u001b[0m\u001b[0;34m)\u001b[0m\u001b[0;34m\u001b[0m\u001b[0m\n",
      "\u001b[0;32m~/animal-trafficking-news-analyzer/.venv/lib/python3.6/site-packages/spacy/language.py\u001b[0m in \u001b[0;36m__call__\u001b[0;34m(self, text, disable, component_cfg)\u001b[0m\n\u001b[1;32m    425\u001b[0m                 \u001b[0mErrors\u001b[0m\u001b[0;34m.\u001b[0m\u001b[0mE088\u001b[0m\u001b[0;34m.\u001b[0m\u001b[0mformat\u001b[0m\u001b[0;34m(\u001b[0m\u001b[0mlength\u001b[0m\u001b[0;34m=\u001b[0m\u001b[0mlen\u001b[0m\u001b[0;34m(\u001b[0m\u001b[0mtext\u001b[0m\u001b[0;34m)\u001b[0m\u001b[0;34m,\u001b[0m \u001b[0mmax_length\u001b[0m\u001b[0;34m=\u001b[0m\u001b[0mself\u001b[0m\u001b[0;34m.\u001b[0m\u001b[0mmax_length\u001b[0m\u001b[0;34m)\u001b[0m\u001b[0;34m\u001b[0m\u001b[0m\n\u001b[1;32m    426\u001b[0m             )\n\u001b[0;32m--> 427\u001b[0;31m         \u001b[0mdoc\u001b[0m \u001b[0;34m=\u001b[0m \u001b[0mself\u001b[0m\u001b[0;34m.\u001b[0m\u001b[0mmake_doc\u001b[0m\u001b[0;34m(\u001b[0m\u001b[0mtext\u001b[0m\u001b[0;34m)\u001b[0m\u001b[0;34m\u001b[0m\u001b[0m\n\u001b[0m\u001b[1;32m    428\u001b[0m         \u001b[0;32mif\u001b[0m \u001b[0mcomponent_cfg\u001b[0m \u001b[0;32mis\u001b[0m \u001b[0;32mNone\u001b[0m\u001b[0;34m:\u001b[0m\u001b[0;34m\u001b[0m\u001b[0m\n\u001b[1;32m    429\u001b[0m             \u001b[0mcomponent_cfg\u001b[0m \u001b[0;34m=\u001b[0m \u001b[0;34m{\u001b[0m\u001b[0;34m}\u001b[0m\u001b[0;34m\u001b[0m\u001b[0m\n",
      "\u001b[0;32m~/animal-trafficking-news-analyzer/.venv/lib/python3.6/site-packages/spacy/language.py\u001b[0m in \u001b[0;36mmake_doc\u001b[0;34m(self, text)\u001b[0m\n\u001b[1;32m    451\u001b[0m \u001b[0;34m\u001b[0m\u001b[0m\n\u001b[1;32m    452\u001b[0m     \u001b[0;32mdef\u001b[0m \u001b[0mmake_doc\u001b[0m\u001b[0;34m(\u001b[0m\u001b[0mself\u001b[0m\u001b[0;34m,\u001b[0m \u001b[0mtext\u001b[0m\u001b[0;34m)\u001b[0m\u001b[0;34m:\u001b[0m\u001b[0;34m\u001b[0m\u001b[0m\n\u001b[0;32m--> 453\u001b[0;31m         \u001b[0;32mreturn\u001b[0m \u001b[0mself\u001b[0m\u001b[0;34m.\u001b[0m\u001b[0mtokenizer\u001b[0m\u001b[0;34m(\u001b[0m\u001b[0mtext\u001b[0m\u001b[0;34m)\u001b[0m\u001b[0;34m\u001b[0m\u001b[0m\n\u001b[0m\u001b[1;32m    454\u001b[0m \u001b[0;34m\u001b[0m\u001b[0m\n\u001b[1;32m    455\u001b[0m     \u001b[0;32mdef\u001b[0m \u001b[0m_format_docs_and_golds\u001b[0m\u001b[0;34m(\u001b[0m\u001b[0mself\u001b[0m\u001b[0;34m,\u001b[0m \u001b[0mdocs\u001b[0m\u001b[0;34m,\u001b[0m \u001b[0mgolds\u001b[0m\u001b[0;34m)\u001b[0m\u001b[0;34m:\u001b[0m\u001b[0;34m\u001b[0m\u001b[0m\n",
      "\u001b[0;31mTypeError\u001b[0m: Argument 'string' has incorrect type (expected str, got spacy.tokens.token.Token)"
     ]
    }
   ],
   "source": [
    "for word in sentences[11]:\n",
    "    word_with_label = nlp(word)\n",
    "    print(word_with_label.label_)"
   ]
  }
 ],
 "metadata": {
  "kernelspec": {
   "display_name": "Python 3",
   "language": "python",
   "name": "python3"
  },
  "language_info": {
   "codemirror_mode": {
    "name": "ipython",
    "version": 3
   },
   "file_extension": ".py",
   "mimetype": "text/x-python",
   "name": "python",
   "nbconvert_exporter": "python",
   "pygments_lexer": "ipython3",
   "version": "3.6.0"
  }
 },
 "nbformat": 4,
 "nbformat_minor": 2
}
